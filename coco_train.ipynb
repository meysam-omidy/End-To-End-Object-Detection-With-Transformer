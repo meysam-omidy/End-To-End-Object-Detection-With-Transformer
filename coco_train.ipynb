{
 "cells": [
  {
   "cell_type": "markdown",
   "metadata": {},
   "source": [
    "# Generate Dataloader From Files"
   ]
  },
  {
   "cell_type": "code",
   "execution_count": 1,
   "metadata": {},
   "outputs": [],
   "source": [
    "from torchvision.datasets import ImageFolder\n",
    "from torchvision.transforms import transforms\n",
    "from torch.utils.data import DataLoader\n",
    "from torch.utils.data import Subset\n",
    "from pycocotools.coco import COCO\n",
    "import os\n",
    "import numpy as np\n",
    "import json\n",
    "\n",
    "with open('./annotations/person_keypoints_train2017.json', 'r') as f:\n",
    "    d = json.load(f)\n",
    "coco = COCO('./annotations/instances_train2017.json')\n",
    "\n",
    "category_ids = coco.getCatIds()\n",
    "NUM_CLASSES = len(category_ids)\n",
    "MAX_OBJECTS = 62\n",
    "BATCH_SIZE = 2\n",
    "\n",
    "imgIds = coco.getImgIds()\n",
    "filenames = os.listdir('./images/train2017/')\n",
    "bounding_boxes = []\n",
    "object_classes = []\n",
    "indexes = []\n",
    "for id in imgIds:\n",
    "    img_dict = coco.loadImgs(id)[0]\n",
    "    annotations = coco.loadAnns(coco.getAnnIds([id], iscrowd=False))\n",
    "    if len(annotations) > 0: \n",
    "        indexes.append(filenames.index(img_dict['file_name']))\n",
    "        boxes = []\n",
    "        for annotation in annotations:\n",
    "            box = annotation['bbox']\n",
    "            boxes.append([box[0]/img_dict['width'], box[1]/img_dict['height'], (box[0]+box[2])/img_dict['width'], (box[1]+box[3])/img_dict['height']])\n",
    "        boxes_length = len(boxes)\n",
    "        for _ in range(MAX_OBJECTS - boxes_length):\n",
    "            boxes.append([0.0, 0.0, 0.0, 0.0])\n",
    "        bounding_boxes.append(boxes)\n",
    "        classes = []\n",
    "        for annotation in annotations:\n",
    "            classes.append(category_ids.index(annotation['category_id']))\n",
    "        classes_length = len(classes)\n",
    "        for _ in range(MAX_OBJECTS - classes_length):\n",
    "            classes.append(NUM_CLASSES)\n",
    "        object_classes.append(classes)\n",
    "\n",
    "images = ImageFolder('./images/', transform=transforms.Compose([\n",
    "        transforms.Resize((320,320)), transforms.ToTensor()\n",
    "        ]))\n",
    "images_loader = DataLoader(Subset(images, indexes), batch_size=BATCH_SIZE, shuffle=False)\n",
    "boxes_loader = DataLoader(np.array(bounding_boxes), batch_size=BATCH_SIZE, shuffle=False)\n",
    "classes_loader = DataLoader(np.array(object_classes), batch_size=BATCH_SIZE, shuffle=False)"
   ]
  },
  {
   "cell_type": "markdown",
   "metadata": {},
   "source": [
    "# Train DETR"
   ]
  },
  {
   "cell_type": "code",
   "execution_count": null,
   "metadata": {},
   "outputs": [],
   "source": [
    "import torch \n",
    "from torch.optim import Adam\n",
    "from detr import DETR, DETRLoss\n",
    "\n",
    "DEVICE = 'cuda' if torch.cuda.is_available() else 'cpu'\n",
    "model = DETR(num_encoder_layers=6, num_decoder_layers=6, num_classes=NUM_CLASSES, max_objects=MAX_OBJECTS).to(DEVICE)\n",
    "criterion = DETRLoss(0.5, 0.5, NUM_CLASSES)\n",
    "optimizer = Adam(model.parameters(), lr=0.0005)\n",
    "\n",
    "EPOCHS = 20\n",
    "for epoch in range(EPOCHS):\n",
    "    loss_sum = 0\n",
    "    i = 0\n",
    "    for ((images,_), bboxes, classes) in zip(images_loader, boxes_loader, classes_loader):\n",
    "        images, bboxes, classes = images.to(DEVICE), bboxes.to(DEVICE), classes.to(DEVICE)\n",
    "        bb_predicted, c_predicted = model(images)\n",
    "        loss = criterion(bboxes, bb_predicted, classes, c_predicted)\n",
    "        optimizer.zero_grad()\n",
    "        loss.backward()\n",
    "        optimizer.step()\n",
    "        loss_sum += loss.item()\n",
    "        i += 1\n",
    "    print(f'epoch {epoch}   loss {loss_sum / i}')"
   ]
  }
 ],
 "metadata": {
  "kernelspec": {
   "display_name": "Python 3",
   "language": "python",
   "name": "python3"
  },
  "language_info": {
   "codemirror_mode": {
    "name": "ipython",
    "version": 3
   },
   "file_extension": ".py",
   "mimetype": "text/x-python",
   "name": "python",
   "nbconvert_exporter": "python",
   "pygments_lexer": "ipython3",
   "version": "3.11.1"
  }
 },
 "nbformat": 4,
 "nbformat_minor": 2
}
